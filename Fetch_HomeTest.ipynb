{
  "nbformat": 4,
  "nbformat_minor": 0,
  "metadata": {
    "colab": {
      "provenance": [],
      "collapsed_sections": [
        "dg_tuyfvDt7G",
        "vSKJH7T6XEEE",
        "5pQ-qM6-XOuz",
        "O53OLs65YGec",
        "I58Zde2RY9tn",
        "pnOmbChEZEbU",
        "i4SRiis6k5Fm",
        "4erqsYGqcsxT",
        "xYo0R0msgPUy",
        "ifBgRqNsh7N0",
        "C34fXHbuiVvz",
        "Bw_Ji6dOrJry",
        "wbyl397mtlv1",
        "shq7lixUukKO",
        "OaO5vVyHvTlT",
        "bg9szD6qwIvN",
        "xupe6LZ4v8La",
        "foARL6ebt7cv",
        "SjKzVmDrks09"
      ],
      "authorship_tag": "ABX9TyPVHMSrJ+PFckUwGqgDedH4",
      "include_colab_link": true
    },
    "kernelspec": {
      "name": "python3",
      "display_name": "Python 3"
    },
    "language_info": {
      "name": "python"
    }
  },
  "cells": [
    {
      "cell_type": "markdown",
      "metadata": {
        "id": "view-in-github",
        "colab_type": "text"
      },
      "source": [
        "<a href=\"https://colab.research.google.com/github/glee255/jupiter-notebooks/blob/main/Fetch_HomeTest.ipynb\" target=\"_parent\"><img src=\"https://colab.research.google.com/assets/colab-badge.svg\" alt=\"Open In Colab\"/></a>"
      ]
    },
    {
      "cell_type": "markdown",
      "source": [
        "### **Brands Table**\n",
        " - Read json file.\n",
        " - Read id values within the dictionaries."
      ],
      "metadata": {
        "id": "dg_tuyfvDt7G"
      }
    },
    {
      "cell_type": "code",
      "execution_count": 33,
      "metadata": {
        "id": "bHJ-_wlVRGAb"
      },
      "outputs": [],
      "source": [
        "# Read json file\n",
        "import pandas as pd\n",
        "import json\n",
        "\n",
        "with open('/content/brands.json', 'r') as file:\n",
        "    json_text = file.read()\n",
        "\n",
        "json_objects = json_text.strip().split('\\n')\n",
        "data = [json.loads(obj) for obj in json_objects]\n",
        "brands = pd.DataFrame(data)"
      ]
    },
    {
      "cell_type": "code",
      "source": [
        "# Read  id values\n",
        "def extract(d):\n",
        "    try:\n",
        "        if \"$oid\" in d:\n",
        "            return d[\"$oid\"]\n",
        "        elif \"$id\" in d and \"$oid\" in d[\"$id\"]:\n",
        "            return d[\"$id\"][\"$oid\"]\n",
        "        else:\n",
        "            return None\n",
        "    except (KeyError, TypeError):\n",
        "        return None\n",
        "\n",
        "brands['brand_id'] = brands['_id'].apply(lambda x: extract(x))\n",
        "brands['cpg_id'] = brands['cpg'].apply(lambda x: extract(x))"
      ],
      "metadata": {
        "id": "hy8kuNrgYsmz"
      },
      "execution_count": 34,
      "outputs": []
    },
    {
      "cell_type": "code",
      "source": [
        "# 1167 brands in total\n",
        "brands.shape"
      ],
      "metadata": {
        "colab": {
          "base_uri": "https://localhost:8080/"
        },
        "id": "cWJyuetjBDct",
        "outputId": "87133af0-a7a5-4279-dac8-88d323bb6b11"
      },
      "execution_count": 35,
      "outputs": [
        {
          "output_type": "execute_result",
          "data": {
            "text/plain": [
              "(1167, 10)"
            ]
          },
          "metadata": {},
          "execution_count": 35
        }
      ]
    },
    {
      "cell_type": "markdown",
      "source": [
        "### Missing values\n",
        " - There seems to be too many missing values in category, categoryCode, topBrand, brandCode.\n",
        " - Removing null values may remove the entire data set. Replacing null values does not make sense for this case."
      ],
      "metadata": {
        "id": "vSKJH7T6XEEE"
      }
    },
    {
      "cell_type": "code",
      "source": [
        "brands.isna().sum()"
      ],
      "metadata": {
        "colab": {
          "base_uri": "https://localhost:8080/"
        },
        "id": "KHs-vtQCA3M3",
        "outputId": "8b81d413-b456-46e2-c382-526c43e3201b"
      },
      "execution_count": 37,
      "outputs": [
        {
          "output_type": "execute_result",
          "data": {
            "text/plain": [
              "_id               0\n",
              "barcode           0\n",
              "category        155\n",
              "categoryCode    650\n",
              "cpg               0\n",
              "name              0\n",
              "topBrand        612\n",
              "brandCode       234\n",
              "brand_id          0\n",
              "cpg_id            0\n",
              "dtype: int64"
            ]
          },
          "metadata": {},
          "execution_count": 37
        }
      ]
    },
    {
      "cell_type": "markdown",
      "source": [
        "### Misleading column name\n",
        " - categoryCode seems to have text values and not categorical values.\n",
        " - Also it almost seems same as the category values."
      ],
      "metadata": {
        "id": "5pQ-qM6-XOuz"
      }
    },
    {
      "cell_type": "code",
      "source": [
        "brands['categoryCode'].value_counts()"
      ],
      "metadata": {
        "colab": {
          "base_uri": "https://localhost:8080/"
        },
        "id": "cVwmxxeyBIVZ",
        "outputId": "b590aee6-a151-4b8f-97b1-9d72b1314a25"
      },
      "execution_count": 38,
      "outputs": [
        {
          "output_type": "execute_result",
          "data": {
            "text/plain": [
              "BAKING                           359\n",
              "CANDY_AND_SWEETS                  71\n",
              "BEER_WINE_SPIRITS                 31\n",
              "HEALTHY_AND_WELLNESS              14\n",
              "GROCERY                           11\n",
              "BABY                               7\n",
              "CLEANING_AND_HOME_IMPROVEMENT      6\n",
              "BREAD_AND_BAKERY                   5\n",
              "DAIRY_AND_REFRIGERATED             5\n",
              "PERSONAL_CARE                      4\n",
              "BEVERAGES                          1\n",
              "OUTDOOR                            1\n",
              "MAGAZINES                          1\n",
              "FROZEN                             1\n",
              "Name: categoryCode, dtype: int64"
            ]
          },
          "metadata": {},
          "execution_count": 38
        }
      ]
    },
    {
      "cell_type": "code",
      "source": [
        "brands['category'].value_counts()"
      ],
      "metadata": {
        "colab": {
          "base_uri": "https://localhost:8080/"
        },
        "id": "dKChcM1EBUCd",
        "outputId": "88d0f158-750d-4c26-9f91-e14e288d5d06"
      },
      "execution_count": 39,
      "outputs": [
        {
          "output_type": "execute_result",
          "data": {
            "text/plain": [
              "Baking                         369\n",
              "Beer Wine Spirits               90\n",
              "Snacks                          75\n",
              "Candy & Sweets                  71\n",
              "Beverages                       63\n",
              "Magazines                       44\n",
              "Health & Wellness               44\n",
              "Breakfast & Cereal              40\n",
              "Grocery                         39\n",
              "Dairy                           33\n",
              "Condiments & Sauces             27\n",
              "Frozen                          24\n",
              "Personal Care                   20\n",
              "Baby                            18\n",
              "Canned Goods & Soups            12\n",
              "Beauty                           9\n",
              "Cleaning & Home Improvement      6\n",
              "Deli                             6\n",
              "Beauty & Personal Care           6\n",
              "Household                        5\n",
              "Bread & Bakery                   5\n",
              "Dairy & Refrigerated             5\n",
              "Outdoor                          1\n",
              "Name: category, dtype: int64"
            ]
          },
          "metadata": {},
          "execution_count": 39
        }
      ]
    },
    {
      "cell_type": "markdown",
      "source": [
        "### Inconsistent values\n",
        " - brandCode contains inconsistent values such as numeric, text and numeric and text combined."
      ],
      "metadata": {
        "id": "O53OLs65YGec"
      }
    },
    {
      "cell_type": "code",
      "source": [
        "brands['brandCode'].value_counts()"
      ],
      "metadata": {
        "colab": {
          "base_uri": "https://localhost:8080/"
        },
        "id": "ty4DrmsMEXtc",
        "outputId": "d8ec646b-bb69-4822-cefb-aed6071488b4"
      },
      "execution_count": 40,
      "outputs": [
        {
          "output_type": "execute_result",
          "data": {
            "text/plain": [
              "                                 35\n",
              "GOODNITES                         2\n",
              "HUGGIES                           2\n",
              "ROYAL DANSK                       1\n",
              "SOL                               1\n",
              "                                 ..\n",
              "TEST BRANDCODE @1599159969028     1\n",
              "TEST BRANDCODE @1597350074404     1\n",
              "SEDAL                             1\n",
              "RED ROCK DELI                     1\n",
              "TEST BRANDCODE @1613158231644     1\n",
              "Name: brandCode, Length: 897, dtype: int64"
            ]
          },
          "metadata": {},
          "execution_count": 40
        }
      ]
    },
    {
      "cell_type": "markdown",
      "source": [
        "### Drop irrelevant columns\n",
        " - Remove '_id', 'cpg', 'categoryCode columns.\n",
        " - 'cpg' value needs to be checked."
      ],
      "metadata": {
        "id": "I58Zde2RY9tn"
      }
    },
    {
      "cell_type": "code",
      "source": [
        "# Remove '_id','cpg','categoryCode. 'cpg' value needs to be checked.\n",
        "colsToDrop = ['_id','categoryCode','cpg']\n",
        "brands.drop(colsToDrop, axis=1, inplace=True)"
      ],
      "metadata": {
        "id": "4tExAAx4B9xM"
      },
      "execution_count": 41,
      "outputs": []
    },
    {
      "cell_type": "markdown",
      "source": [
        "### Check duplicates\n",
        "- No duplicates"
      ],
      "metadata": {
        "id": "pnOmbChEZEbU"
      }
    },
    {
      "cell_type": "code",
      "source": [
        "# No duplicates\n",
        "brands.duplicated().any()"
      ],
      "metadata": {
        "colab": {
          "base_uri": "https://localhost:8080/"
        },
        "id": "rcYphQNXBief",
        "outputId": "836c9a43-332c-443b-a0b3-d698e0592f89"
      },
      "execution_count": 42,
      "outputs": [
        {
          "output_type": "execute_result",
          "data": {
            "text/plain": [
              "False"
            ]
          },
          "metadata": {},
          "execution_count": 42
        }
      ]
    },
    {
      "cell_type": "code",
      "source": [
        "# Check the first five rows\n",
        "brands.head()"
      ],
      "metadata": {
        "id": "c6P2f_QqD69T"
      },
      "execution_count": null,
      "outputs": []
    },
    {
      "cell_type": "markdown",
      "source": [
        "### Sqlite3 table conversion"
      ],
      "metadata": {
        "id": "i4SRiis6k5Fm"
      }
    },
    {
      "cell_type": "code",
      "source": [
        "file_name = 'brands.xlsx'\n",
        "brands.to_excel(file_name, index=False)"
      ],
      "metadata": {
        "id": "VopC7AEXEoCa"
      },
      "execution_count": 44,
      "outputs": []
    },
    {
      "cell_type": "code",
      "source": [
        "for column in brands.select_dtypes(include=['float64']).columns:\n",
        "    brands[column] = brands[column].fillna(0).astype(int)\n",
        "\n",
        "for column in brands.select_dtypes(include=['object']).columns:\n",
        "    brands[column] = brands[column].astype(str)"
      ],
      "metadata": {
        "id": "Xz7UWYwSvaO1"
      },
      "execution_count": 45,
      "outputs": []
    },
    {
      "cell_type": "code",
      "source": [
        "import sqlite3\n",
        "\n",
        "conn = sqlite3.connect('fetch.db')\n",
        "cur = conn.cursor()\n",
        "\n",
        "brands.to_sql('brands', conn, if_exists='replace', index=False)"
      ],
      "metadata": {
        "colab": {
          "base_uri": "https://localhost:8080/"
        },
        "id": "V1847yZhy11O",
        "outputId": "d8a98d9f-46c2-4228-bdfd-87d834967c9a"
      },
      "execution_count": 46,
      "outputs": [
        {
          "output_type": "execute_result",
          "data": {
            "text/plain": [
              "1167"
            ]
          },
          "metadata": {},
          "execution_count": 46
        }
      ]
    },
    {
      "cell_type": "markdown",
      "source": [
        "### **Receipts Table**\n",
        " - Read json file.\n",
        " - Retrieve the dictionary values from rewardsReceiptItemList column. Twelve dictionaries contained.\n",
        " - Retrieve id values within the dictionary.\n",
        " - Retrieve and convert dates from date columns"
      ],
      "metadata": {
        "id": "4erqsYGqcsxT"
      }
    },
    {
      "cell_type": "code",
      "source": [
        "# Read json file\n",
        "with open('/content/receipts.json', 'r') as file:\n",
        "    json_text = file.read()\n",
        "\n",
        "json_objects = json_text.strip().split('\\n')\n",
        "data1 = [json.loads(obj) for obj in json_objects]\n",
        "receipts = pd.DataFrame(data1)"
      ],
      "metadata": {
        "id": "zXEJCrrgTWhK"
      },
      "execution_count": 173,
      "outputs": []
    },
    {
      "cell_type": "code",
      "source": [
        "# Retrieve the dictionaries from rewardsReceiptItemList column. Too many dictionaries contained.\n",
        "def extract1(list_of_dicts, key):\n",
        "    if not isinstance(list_of_dicts, list):\n",
        "        return ''\n",
        "    values = [str(d.get(key)) for d in list_of_dicts if d.get(key) is not None]\n",
        "    return ', '.join(values)\n",
        "\n",
        "receipts['barcodes'] = receipts['rewardsReceiptItemList'].apply(lambda x: extract1(x, 'barcode'))\n",
        "receipts['description'] = receipts['rewardsReceiptItemList'].apply(lambda x: extract1(x, 'description'))\n",
        "receipts['finalPrice'] = receipts['rewardsReceiptItemList'].apply(lambda x: extract1(x, 'finalPrice'))\n",
        "receipts['itemPrice'] = receipts['rewardsReceiptItemList'].apply(lambda x: extract1(x, 'itemPrice'))\n",
        "receipts['needsFetchReview'] = receipts['rewardsReceiptItemList'].apply(lambda x: extract1(x, 'needsFetchReview'))\n",
        "receipts['partnerItemId'] = receipts['rewardsReceiptItemList'].apply(lambda x: extract1(x, 'partnerItemId'))\n",
        "receipts['preventTargetGapPoints'] = receipts['rewardsReceiptItemList'].apply(lambda x: extract1(x, 'preventTargetGapPoints'))\n",
        "receipts['quantityPurchased'] = receipts['rewardsReceiptItemList'].apply(lambda x: extract1(x, 'quantityPurchased'))\n",
        "receipts['userFlaggedBarcode'] = receipts['rewardsReceiptItemList'].apply(lambda x: extract1(x, 'userFlaggedBarcode'))\n",
        "receipts['userFlaggedNewItem'] = receipts['rewardsReceiptItemList'].apply(lambda x: extract1(x, 'userFlaggedNewItem'))\n",
        "receipts['userFlaggedPrice'] = receipts['rewardsReceiptItemList'].apply(lambda x: extract1(x, 'userFlaggedPrice'))\n",
        "receipts['userFlaggedQuantity'] = receipts['rewardsReceiptItemList'].apply(lambda x: extract1(x, 'userFlaggedQuantity'))\n",
        "receipts['receipt_id'] = receipts['_id'].apply(lambda x: x.get('$oid') if isinstance(x, dict) else None)"
      ],
      "metadata": {
        "id": "hcz4UqZohzqh"
      },
      "execution_count": 174,
      "outputs": []
    },
    {
      "cell_type": "code",
      "source": [
        "# Retrieve dates from date columns\n",
        "def extract2(d):\n",
        "    try:\n",
        "        oid_value = d['$date']\n",
        "        return oid_value\n",
        "    except (KeyError, TypeError):\n",
        "        return None\n",
        "\n",
        "receipts['create_d'] = receipts['createDate'].apply(lambda x: extract2(x))\n",
        "receipts['scan_d'] = receipts['dateScanned'].apply(lambda x: extract2(x))\n",
        "receipts['finish_d'] = receipts['finishedDate'].apply(lambda x: extract2(x))\n",
        "receipts['modify_d'] = receipts['modifyDate'].apply(lambda x: extract2(x))\n",
        "receipts['point_d'] = receipts['pointsAwardedDate'].apply(lambda x: extract2(x))\n",
        "receipts['purchase_d'] = receipts['purchaseDate'].apply(lambda x: extract2(x))"
      ],
      "metadata": {
        "id": "0IyF5nR3cm_V"
      },
      "execution_count": 175,
      "outputs": []
    },
    {
      "cell_type": "code",
      "source": [
        "# Convert data to year and month\n",
        "from datetime import datetime\n",
        "receipts['create_ym'] = receipts['create_d'].apply(lambda x: datetime.fromtimestamp(x/1000).strftime('%Y-%m') if pd.notnull(x) else None)\n",
        "receipts['scan_ym'] = receipts['scan_d'].apply(lambda x: datetime.fromtimestamp(x/1000).strftime('%Y-%m') if pd.notnull(x) else None)\n",
        "receipts['finish_ym'] = receipts['finish_d'].apply(lambda x: datetime.fromtimestamp(x/1000).strftime('%Y-%m') if pd.notnull(x) else None)\n",
        "receipts['modify_ym'] = receipts['modify_d'].apply(lambda x: datetime.fromtimestamp(x/1000).strftime('%Y-%m') if pd.notnull(x) else None)\n",
        "receipts['point_ym'] = receipts['point_d'].apply(lambda x: datetime.fromtimestamp(x/1000).strftime('%Y-%m') if pd.notnull(x) else None)\n",
        "receipts['purchase_ym'] = receipts['purchase_d'].apply(lambda x: datetime.fromtimestamp(x/1000).strftime('%Y-%m') if pd.notnull(x) else None)"
      ],
      "metadata": {
        "id": "LtYppNkhjNZ5"
      },
      "execution_count": 176,
      "outputs": []
    },
    {
      "cell_type": "markdown",
      "source": [
        "### Drop irrelevant columns\n",
        "\n",
        "- Remove json formatted columns and columns that were used for retrieving and conversion.\n",
        "\n"
      ],
      "metadata": {
        "id": "xYo0R0msgPUy"
      }
    },
    {
      "cell_type": "code",
      "source": [
        "# Remove '_id','createDate','dateScanned','finishedDate','modifyDate','pointsAwardedDate','purchaseDate'\n",
        "colsToDrop = ['rewardsReceiptItemList','_id','create_d','scan_d','finish_d','modify_d','point_d','purchase_d','createDate','dateScanned','finishedDate','modifyDate','pointsAwardedDate','purchaseDate']\n",
        "receipts.drop(colsToDrop, axis=1, inplace=True)"
      ],
      "metadata": {
        "id": "N61PPKiHFBeJ"
      },
      "execution_count": 177,
      "outputs": []
    },
    {
      "cell_type": "markdown",
      "source": [
        "### Missing values\n",
        " - Customers may not earn bonus points. Null value reasonable.\n",
        " - But other than the bonus points related columns, other needs to be checked.\n",
        " - Barcodes column contatins empty string that is not recognized as na value."
      ],
      "metadata": {
        "id": "ifBgRqNsh7N0"
      }
    },
    {
      "cell_type": "code",
      "source": [
        "receipts.isna().sum()"
      ],
      "metadata": {
        "colab": {
          "base_uri": "https://localhost:8080/"
        },
        "id": "V6O6lZelhMnH",
        "outputId": "48b0e440-ab50-4a69-c67f-d39f79b00b51"
      },
      "execution_count": 178,
      "outputs": [
        {
          "output_type": "execute_result",
          "data": {
            "text/plain": [
              "bonusPointsEarned          575\n",
              "bonusPointsEarnedReason    575\n",
              "pointsEarned               510\n",
              "purchasedItemCount         484\n",
              "rewardsReceiptStatus         0\n",
              "totalSpent                 435\n",
              "userId                       0\n",
              "barcodes                     0\n",
              "description                  0\n",
              "finalPrice                   0\n",
              "itemPrice                    0\n",
              "needsFetchReview             0\n",
              "partnerItemId                0\n",
              "preventTargetGapPoints       0\n",
              "quantityPurchased            0\n",
              "userFlaggedBarcode           0\n",
              "userFlaggedNewItem           0\n",
              "userFlaggedPrice             0\n",
              "userFlaggedQuantity          0\n",
              "receipt_id                   0\n",
              "create_ym                    0\n",
              "scan_ym                      0\n",
              "finish_ym                  551\n",
              "modify_ym                    0\n",
              "point_ym                   582\n",
              "purchase_ym                448\n",
              "dtype: int64"
            ]
          },
          "metadata": {},
          "execution_count": 178
        }
      ]
    },
    {
      "cell_type": "code",
      "source": [
        "# empty string not recognized as na value\n",
        "receipts['barcodes'].head()"
      ],
      "metadata": {
        "colab": {
          "base_uri": "https://localhost:8080/"
        },
        "id": "U3GdbCr9sYzF",
        "outputId": "c0014614-b3cd-47fb-dd0b-2530166683f5"
      },
      "execution_count": 179,
      "outputs": [
        {
          "output_type": "execute_result",
          "data": {
            "text/plain": [
              "0                  4011\n",
              "1    4011, 028400642255\n",
              "2                      \n",
              "3                  4011\n",
              "4            4011, 1234\n",
              "Name: barcodes, dtype: object"
            ]
          },
          "metadata": {},
          "execution_count": 179
        }
      ]
    },
    {
      "cell_type": "markdown",
      "source": [
        "### Data issues\n",
        " - Multiple values in barcodes, finalPrice, itemPrice, partnerItemId, quantityPurchased columns. First form normalization needed.\n",
        " - Split the barcodes to use as foreign key.\n",
        " - pointsEarned, totalSpent, finalPrice, itemPrice, quantityPurchased data types are object. Data type need to be changed to numeric."
      ],
      "metadata": {
        "id": "C34fXHbuiVvz"
      }
    },
    {
      "cell_type": "code",
      "source": [
        "import numpy as np\n",
        "receipts['barcodes'] = receipts['barcodes'].replace(r'^\\s*$', np.nan, regex=True)"
      ],
      "metadata": {
        "id": "jh--MBl1Dm1i"
      },
      "execution_count": 180,
      "outputs": []
    },
    {
      "cell_type": "code",
      "source": [
        "receipts['barcodes'] = receipts['barcodes'].str.split(',')\n",
        "receipts = receipts.explode('barcodes')\n",
        "receipts.rename(columns={'barcodes': 'barcode'}, inplace=True)\n",
        "receipts['barcode'] = receipts['barcode'].str.strip()"
      ],
      "metadata": {
        "id": "9_eGKNiA3eLM"
      },
      "execution_count": 181,
      "outputs": []
    },
    {
      "cell_type": "code",
      "source": [
        "to_convert = ['pointsEarned', 'totalSpent', 'finalPrice', 'itemPrice', 'quantityPurchased']\n",
        "\n",
        "# Convert each column to numeric, coercing errors to NaN\n",
        "for column in to_convert:\n",
        "    receipts[column] = pd.to_numeric(receipts[column], errors='coerce')"
      ],
      "metadata": {
        "id": "JIzv-rmokPUl"
      },
      "execution_count": 182,
      "outputs": []
    },
    {
      "cell_type": "code",
      "source": [
        "receipts.shape"
      ],
      "metadata": {
        "colab": {
          "base_uri": "https://localhost:8080/"
        },
        "id": "AB2_KPQ7DGqQ",
        "outputId": "80d644f8-a398-4098-e2a6-25f277aae439"
      },
      "execution_count": 183,
      "outputs": [
        {
          "output_type": "execute_result",
          "data": {
            "text/plain": [
              "(3616, 26)"
            ]
          },
          "metadata": {},
          "execution_count": 183
        }
      ]
    },
    {
      "cell_type": "code",
      "source": [
        "receipts.info()"
      ],
      "metadata": {
        "colab": {
          "base_uri": "https://localhost:8080/"
        },
        "id": "8VmaJbwAkc4I",
        "outputId": "db4f0601-42a0-4e03-819b-c0153cd8f2ff"
      },
      "execution_count": 184,
      "outputs": [
        {
          "output_type": "stream",
          "name": "stdout",
          "text": [
            "<class 'pandas.core.frame.DataFrame'>\n",
            "Int64Index: 3616 entries, 0 to 1118\n",
            "Data columns (total 26 columns):\n",
            " #   Column                   Non-Null Count  Dtype  \n",
            "---  ------                   --------------  -----  \n",
            " 0   bonusPointsEarned        2709 non-null   float64\n",
            " 1   bonusPointsEarnedReason  2709 non-null   object \n",
            " 2   pointsEarned             2972 non-null   float64\n",
            " 3   purchasedItemCount       3132 non-null   float64\n",
            " 4   rewardsReceiptStatus     3616 non-null   object \n",
            " 5   totalSpent               3181 non-null   float64\n",
            " 6   userId                   3616 non-null   object \n",
            " 7   barcode                  3090 non-null   object \n",
            " 8   description              3616 non-null   object \n",
            " 9   finalPrice               433 non-null    float64\n",
            " 10  itemPrice                433 non-null    float64\n",
            " 11  needsFetchReview         3616 non-null   object \n",
            " 12  partnerItemId            3616 non-null   object \n",
            " 13  preventTargetGapPoints   3616 non-null   object \n",
            " 14  quantityPurchased        433 non-null    float64\n",
            " 15  userFlaggedBarcode       3616 non-null   object \n",
            " 16  userFlaggedNewItem       3616 non-null   object \n",
            " 17  userFlaggedPrice         3616 non-null   object \n",
            " 18  userFlaggedQuantity      3616 non-null   object \n",
            " 19  receipt_id               3616 non-null   object \n",
            " 20  create_ym                3616 non-null   object \n",
            " 21  scan_ym                  3616 non-null   object \n",
            " 22  finish_ym                2819 non-null   object \n",
            " 23  modify_ym                3616 non-null   object \n",
            " 24  point_ym                 2805 non-null   object \n",
            " 25  purchase_ym              3168 non-null   object \n",
            "dtypes: float64(7), object(19)\n",
            "memory usage: 762.8+ KB\n"
          ]
        }
      ]
    },
    {
      "cell_type": "code",
      "source": [
        "receipts.isna().sum()"
      ],
      "metadata": {
        "colab": {
          "base_uri": "https://localhost:8080/"
        },
        "id": "uix9j6Wlrvx6",
        "outputId": "56d0fb63-2214-4dca-d7b7-9a28fa22849a"
      },
      "execution_count": 185,
      "outputs": [
        {
          "output_type": "execute_result",
          "data": {
            "text/plain": [
              "bonusPointsEarned           907\n",
              "bonusPointsEarnedReason     907\n",
              "pointsEarned                644\n",
              "purchasedItemCount          484\n",
              "rewardsReceiptStatus          0\n",
              "totalSpent                  435\n",
              "userId                        0\n",
              "barcode                     526\n",
              "description                   0\n",
              "finalPrice                 3183\n",
              "itemPrice                  3183\n",
              "needsFetchReview              0\n",
              "partnerItemId                 0\n",
              "preventTargetGapPoints        0\n",
              "quantityPurchased          3183\n",
              "userFlaggedBarcode            0\n",
              "userFlaggedNewItem            0\n",
              "userFlaggedPrice              0\n",
              "userFlaggedQuantity           0\n",
              "receipt_id                    0\n",
              "create_ym                     0\n",
              "scan_ym                       0\n",
              "finish_ym                   797\n",
              "modify_ym                     0\n",
              "point_ym                    811\n",
              "purchase_ym                 448\n",
              "dtype: int64"
            ]
          },
          "metadata": {},
          "execution_count": 185
        }
      ]
    },
    {
      "cell_type": "markdown",
      "source": [
        "### Sqlite3 table conversion"
      ],
      "metadata": {
        "id": "Bw_Ji6dOrJry"
      }
    },
    {
      "cell_type": "code",
      "source": [
        "for column in receipts.select_dtypes(include=['float64']).columns:\n",
        "    receipts[column] = receipts[column].fillna(0).astype(int)"
      ],
      "metadata": {
        "id": "6cv6n_ynyX4B"
      },
      "execution_count": 186,
      "outputs": []
    },
    {
      "cell_type": "code",
      "source": [
        "receipts.to_sql('receipts', conn, if_exists='replace', index=False)"
      ],
      "metadata": {
        "colab": {
          "base_uri": "https://localhost:8080/"
        },
        "id": "E1_M3TfAQow8",
        "outputId": "4c617475-b31e-43ee-a5f3-e03a21b9c7fd"
      },
      "execution_count": 187,
      "outputs": [
        {
          "output_type": "execute_result",
          "data": {
            "text/plain": [
              "3616"
            ]
          },
          "metadata": {},
          "execution_count": 187
        }
      ]
    },
    {
      "cell_type": "code",
      "source": [
        "file_name = 'receipts.xlsx'\n",
        "receipts.to_excel(file_name, index=False)"
      ],
      "metadata": {
        "id": "ywMgTEe9jf5R"
      },
      "execution_count": 188,
      "outputs": []
    },
    {
      "cell_type": "markdown",
      "source": [
        "### **Users Table**\n",
        " - Read json file.\n",
        " - Retrieve id values within the oid dictionary.\n",
        " - Retrieve and convert dates from date dictionary."
      ],
      "metadata": {
        "id": "wbyl397mtlv1"
      }
    },
    {
      "cell_type": "code",
      "source": [
        "with open('/content/users.json', 'r') as file:\n",
        "    json_text = file.read()\n",
        "\n",
        "json_objects = json_text.strip().split('\\n')\n",
        "data2 = [json.loads(obj) for obj in json_objects]\n",
        "users = pd.DataFrame(data2)\n",
        "\n",
        "users.head()"
      ],
      "metadata": {
        "id": "ZYs7GXPfTimz",
        "colab": {
          "base_uri": "https://localhost:8080/",
          "height": 206
        },
        "outputId": "767c8521-a05b-458e-fca9-5c30a2e00c2c"
      },
      "execution_count": 223,
      "outputs": [
        {
          "output_type": "execute_result",
          "data": {
            "text/plain": [
              "                                    _id  active               createdDate  \\\n",
              "0  {'$oid': '5ff1e194b6a9d73a3a9f1052'}    True  {'$date': 1609687444800}   \n",
              "1  {'$oid': '5ff1e194b6a9d73a3a9f1052'}    True  {'$date': 1609687444800}   \n",
              "2  {'$oid': '5ff1e194b6a9d73a3a9f1052'}    True  {'$date': 1609687444800}   \n",
              "3  {'$oid': '5ff1e1eacfcf6c399c274ae6'}    True  {'$date': 1609687530554}   \n",
              "4  {'$oid': '5ff1e194b6a9d73a3a9f1052'}    True  {'$date': 1609687444800}   \n",
              "\n",
              "                  lastLogin      role signUpSource state  \n",
              "0  {'$date': 1609687537858}  consumer        Email    WI  \n",
              "1  {'$date': 1609687537858}  consumer        Email    WI  \n",
              "2  {'$date': 1609687537858}  consumer        Email    WI  \n",
              "3  {'$date': 1609687530597}  consumer        Email    WI  \n",
              "4  {'$date': 1609687537858}  consumer        Email    WI  "
            ],
            "text/html": [
              "\n",
              "  <div id=\"df-e975e925-7099-4c40-84ab-c3ebda33987d\" class=\"colab-df-container\">\n",
              "    <div>\n",
              "<style scoped>\n",
              "    .dataframe tbody tr th:only-of-type {\n",
              "        vertical-align: middle;\n",
              "    }\n",
              "\n",
              "    .dataframe tbody tr th {\n",
              "        vertical-align: top;\n",
              "    }\n",
              "\n",
              "    .dataframe thead th {\n",
              "        text-align: right;\n",
              "    }\n",
              "</style>\n",
              "<table border=\"1\" class=\"dataframe\">\n",
              "  <thead>\n",
              "    <tr style=\"text-align: right;\">\n",
              "      <th></th>\n",
              "      <th>_id</th>\n",
              "      <th>active</th>\n",
              "      <th>createdDate</th>\n",
              "      <th>lastLogin</th>\n",
              "      <th>role</th>\n",
              "      <th>signUpSource</th>\n",
              "      <th>state</th>\n",
              "    </tr>\n",
              "  </thead>\n",
              "  <tbody>\n",
              "    <tr>\n",
              "      <th>0</th>\n",
              "      <td>{'$oid': '5ff1e194b6a9d73a3a9f1052'}</td>\n",
              "      <td>True</td>\n",
              "      <td>{'$date': 1609687444800}</td>\n",
              "      <td>{'$date': 1609687537858}</td>\n",
              "      <td>consumer</td>\n",
              "      <td>Email</td>\n",
              "      <td>WI</td>\n",
              "    </tr>\n",
              "    <tr>\n",
              "      <th>1</th>\n",
              "      <td>{'$oid': '5ff1e194b6a9d73a3a9f1052'}</td>\n",
              "      <td>True</td>\n",
              "      <td>{'$date': 1609687444800}</td>\n",
              "      <td>{'$date': 1609687537858}</td>\n",
              "      <td>consumer</td>\n",
              "      <td>Email</td>\n",
              "      <td>WI</td>\n",
              "    </tr>\n",
              "    <tr>\n",
              "      <th>2</th>\n",
              "      <td>{'$oid': '5ff1e194b6a9d73a3a9f1052'}</td>\n",
              "      <td>True</td>\n",
              "      <td>{'$date': 1609687444800}</td>\n",
              "      <td>{'$date': 1609687537858}</td>\n",
              "      <td>consumer</td>\n",
              "      <td>Email</td>\n",
              "      <td>WI</td>\n",
              "    </tr>\n",
              "    <tr>\n",
              "      <th>3</th>\n",
              "      <td>{'$oid': '5ff1e1eacfcf6c399c274ae6'}</td>\n",
              "      <td>True</td>\n",
              "      <td>{'$date': 1609687530554}</td>\n",
              "      <td>{'$date': 1609687530597}</td>\n",
              "      <td>consumer</td>\n",
              "      <td>Email</td>\n",
              "      <td>WI</td>\n",
              "    </tr>\n",
              "    <tr>\n",
              "      <th>4</th>\n",
              "      <td>{'$oid': '5ff1e194b6a9d73a3a9f1052'}</td>\n",
              "      <td>True</td>\n",
              "      <td>{'$date': 1609687444800}</td>\n",
              "      <td>{'$date': 1609687537858}</td>\n",
              "      <td>consumer</td>\n",
              "      <td>Email</td>\n",
              "      <td>WI</td>\n",
              "    </tr>\n",
              "  </tbody>\n",
              "</table>\n",
              "</div>\n",
              "    <div class=\"colab-df-buttons\">\n",
              "\n",
              "  <div class=\"colab-df-container\">\n",
              "    <button class=\"colab-df-convert\" onclick=\"convertToInteractive('df-e975e925-7099-4c40-84ab-c3ebda33987d')\"\n",
              "            title=\"Convert this dataframe to an interactive table.\"\n",
              "            style=\"display:none;\">\n",
              "\n",
              "  <svg xmlns=\"http://www.w3.org/2000/svg\" height=\"24px\" viewBox=\"0 -960 960 960\">\n",
              "    <path d=\"M120-120v-720h720v720H120Zm60-500h600v-160H180v160Zm220 220h160v-160H400v160Zm0 220h160v-160H400v160ZM180-400h160v-160H180v160Zm440 0h160v-160H620v160ZM180-180h160v-160H180v160Zm440 0h160v-160H620v160Z\"/>\n",
              "  </svg>\n",
              "    </button>\n",
              "\n",
              "  <style>\n",
              "    .colab-df-container {\n",
              "      display:flex;\n",
              "      gap: 12px;\n",
              "    }\n",
              "\n",
              "    .colab-df-convert {\n",
              "      background-color: #E8F0FE;\n",
              "      border: none;\n",
              "      border-radius: 50%;\n",
              "      cursor: pointer;\n",
              "      display: none;\n",
              "      fill: #1967D2;\n",
              "      height: 32px;\n",
              "      padding: 0 0 0 0;\n",
              "      width: 32px;\n",
              "    }\n",
              "\n",
              "    .colab-df-convert:hover {\n",
              "      background-color: #E2EBFA;\n",
              "      box-shadow: 0px 1px 2px rgba(60, 64, 67, 0.3), 0px 1px 3px 1px rgba(60, 64, 67, 0.15);\n",
              "      fill: #174EA6;\n",
              "    }\n",
              "\n",
              "    .colab-df-buttons div {\n",
              "      margin-bottom: 4px;\n",
              "    }\n",
              "\n",
              "    [theme=dark] .colab-df-convert {\n",
              "      background-color: #3B4455;\n",
              "      fill: #D2E3FC;\n",
              "    }\n",
              "\n",
              "    [theme=dark] .colab-df-convert:hover {\n",
              "      background-color: #434B5C;\n",
              "      box-shadow: 0px 1px 3px 1px rgba(0, 0, 0, 0.15);\n",
              "      filter: drop-shadow(0px 1px 2px rgba(0, 0, 0, 0.3));\n",
              "      fill: #FFFFFF;\n",
              "    }\n",
              "  </style>\n",
              "\n",
              "    <script>\n",
              "      const buttonEl =\n",
              "        document.querySelector('#df-e975e925-7099-4c40-84ab-c3ebda33987d button.colab-df-convert');\n",
              "      buttonEl.style.display =\n",
              "        google.colab.kernel.accessAllowed ? 'block' : 'none';\n",
              "\n",
              "      async function convertToInteractive(key) {\n",
              "        const element = document.querySelector('#df-e975e925-7099-4c40-84ab-c3ebda33987d');\n",
              "        const dataTable =\n",
              "          await google.colab.kernel.invokeFunction('convertToInteractive',\n",
              "                                                    [key], {});\n",
              "        if (!dataTable) return;\n",
              "\n",
              "        const docLinkHtml = 'Like what you see? Visit the ' +\n",
              "          '<a target=\"_blank\" href=https://colab.research.google.com/notebooks/data_table.ipynb>data table notebook</a>'\n",
              "          + ' to learn more about interactive tables.';\n",
              "        element.innerHTML = '';\n",
              "        dataTable['output_type'] = 'display_data';\n",
              "        await google.colab.output.renderOutput(dataTable, element);\n",
              "        const docLink = document.createElement('div');\n",
              "        docLink.innerHTML = docLinkHtml;\n",
              "        element.appendChild(docLink);\n",
              "      }\n",
              "    </script>\n",
              "  </div>\n",
              "\n",
              "\n",
              "<div id=\"df-e93e0887-d9b8-496b-8df1-6dfee0a756ac\">\n",
              "  <button class=\"colab-df-quickchart\" onclick=\"quickchart('df-e93e0887-d9b8-496b-8df1-6dfee0a756ac')\"\n",
              "            title=\"Suggest charts\"\n",
              "            style=\"display:none;\">\n",
              "\n",
              "<svg xmlns=\"http://www.w3.org/2000/svg\" height=\"24px\"viewBox=\"0 0 24 24\"\n",
              "     width=\"24px\">\n",
              "    <g>\n",
              "        <path d=\"M19 3H5c-1.1 0-2 .9-2 2v14c0 1.1.9 2 2 2h14c1.1 0 2-.9 2-2V5c0-1.1-.9-2-2-2zM9 17H7v-7h2v7zm4 0h-2V7h2v10zm4 0h-2v-4h2v4z\"/>\n",
              "    </g>\n",
              "</svg>\n",
              "  </button>\n",
              "\n",
              "<style>\n",
              "  .colab-df-quickchart {\n",
              "      --bg-color: #E8F0FE;\n",
              "      --fill-color: #1967D2;\n",
              "      --hover-bg-color: #E2EBFA;\n",
              "      --hover-fill-color: #174EA6;\n",
              "      --disabled-fill-color: #AAA;\n",
              "      --disabled-bg-color: #DDD;\n",
              "  }\n",
              "\n",
              "  [theme=dark] .colab-df-quickchart {\n",
              "      --bg-color: #3B4455;\n",
              "      --fill-color: #D2E3FC;\n",
              "      --hover-bg-color: #434B5C;\n",
              "      --hover-fill-color: #FFFFFF;\n",
              "      --disabled-bg-color: #3B4455;\n",
              "      --disabled-fill-color: #666;\n",
              "  }\n",
              "\n",
              "  .colab-df-quickchart {\n",
              "    background-color: var(--bg-color);\n",
              "    border: none;\n",
              "    border-radius: 50%;\n",
              "    cursor: pointer;\n",
              "    display: none;\n",
              "    fill: var(--fill-color);\n",
              "    height: 32px;\n",
              "    padding: 0;\n",
              "    width: 32px;\n",
              "  }\n",
              "\n",
              "  .colab-df-quickchart:hover {\n",
              "    background-color: var(--hover-bg-color);\n",
              "    box-shadow: 0 1px 2px rgba(60, 64, 67, 0.3), 0 1px 3px 1px rgba(60, 64, 67, 0.15);\n",
              "    fill: var(--button-hover-fill-color);\n",
              "  }\n",
              "\n",
              "  .colab-df-quickchart-complete:disabled,\n",
              "  .colab-df-quickchart-complete:disabled:hover {\n",
              "    background-color: var(--disabled-bg-color);\n",
              "    fill: var(--disabled-fill-color);\n",
              "    box-shadow: none;\n",
              "  }\n",
              "\n",
              "  .colab-df-spinner {\n",
              "    border: 2px solid var(--fill-color);\n",
              "    border-color: transparent;\n",
              "    border-bottom-color: var(--fill-color);\n",
              "    animation:\n",
              "      spin 1s steps(1) infinite;\n",
              "  }\n",
              "\n",
              "  @keyframes spin {\n",
              "    0% {\n",
              "      border-color: transparent;\n",
              "      border-bottom-color: var(--fill-color);\n",
              "      border-left-color: var(--fill-color);\n",
              "    }\n",
              "    20% {\n",
              "      border-color: transparent;\n",
              "      border-left-color: var(--fill-color);\n",
              "      border-top-color: var(--fill-color);\n",
              "    }\n",
              "    30% {\n",
              "      border-color: transparent;\n",
              "      border-left-color: var(--fill-color);\n",
              "      border-top-color: var(--fill-color);\n",
              "      border-right-color: var(--fill-color);\n",
              "    }\n",
              "    40% {\n",
              "      border-color: transparent;\n",
              "      border-right-color: var(--fill-color);\n",
              "      border-top-color: var(--fill-color);\n",
              "    }\n",
              "    60% {\n",
              "      border-color: transparent;\n",
              "      border-right-color: var(--fill-color);\n",
              "    }\n",
              "    80% {\n",
              "      border-color: transparent;\n",
              "      border-right-color: var(--fill-color);\n",
              "      border-bottom-color: var(--fill-color);\n",
              "    }\n",
              "    90% {\n",
              "      border-color: transparent;\n",
              "      border-bottom-color: var(--fill-color);\n",
              "    }\n",
              "  }\n",
              "</style>\n",
              "\n",
              "  <script>\n",
              "    async function quickchart(key) {\n",
              "      const quickchartButtonEl =\n",
              "        document.querySelector('#' + key + ' button');\n",
              "      quickchartButtonEl.disabled = true;  // To prevent multiple clicks.\n",
              "      quickchartButtonEl.classList.add('colab-df-spinner');\n",
              "      try {\n",
              "        const charts = await google.colab.kernel.invokeFunction(\n",
              "            'suggestCharts', [key], {});\n",
              "      } catch (error) {\n",
              "        console.error('Error during call to suggestCharts:', error);\n",
              "      }\n",
              "      quickchartButtonEl.classList.remove('colab-df-spinner');\n",
              "      quickchartButtonEl.classList.add('colab-df-quickchart-complete');\n",
              "    }\n",
              "    (() => {\n",
              "      let quickchartButtonEl =\n",
              "        document.querySelector('#df-e93e0887-d9b8-496b-8df1-6dfee0a756ac button');\n",
              "      quickchartButtonEl.style.display =\n",
              "        google.colab.kernel.accessAllowed ? 'block' : 'none';\n",
              "    })();\n",
              "  </script>\n",
              "</div>\n",
              "\n",
              "    </div>\n",
              "  </div>\n"
            ],
            "application/vnd.google.colaboratory.intrinsic+json": {
              "type": "dataframe",
              "variable_name": "users",
              "summary": "{\n  \"name\": \"users\",\n  \"rows\": 495,\n  \"fields\": [\n    {\n      \"column\": \"_id\",\n      \"properties\": {\n        \"dtype\": \"object\",\n        \"semantic_type\": \"\",\n        \"description\": \"\"\n      }\n    },\n    {\n      \"column\": \"active\",\n      \"properties\": {\n        \"dtype\": \"boolean\",\n        \"num_unique_values\": 2,\n        \"samples\": [\n          false,\n          true\n        ],\n        \"semantic_type\": \"\",\n        \"description\": \"\"\n      }\n    },\n    {\n      \"column\": \"createdDate\",\n      \"properties\": {\n        \"dtype\": \"object\",\n        \"semantic_type\": \"\",\n        \"description\": \"\"\n      }\n    },\n    {\n      \"column\": \"lastLogin\",\n      \"properties\": {\n        \"dtype\": \"object\",\n        \"semantic_type\": \"\",\n        \"description\": \"\"\n      }\n    },\n    {\n      \"column\": \"role\",\n      \"properties\": {\n        \"dtype\": \"category\",\n        \"num_unique_values\": 2,\n        \"samples\": [\n          \"fetch-staff\",\n          \"consumer\"\n        ],\n        \"semantic_type\": \"\",\n        \"description\": \"\"\n      }\n    },\n    {\n      \"column\": \"signUpSource\",\n      \"properties\": {\n        \"dtype\": \"category\",\n        \"num_unique_values\": 2,\n        \"samples\": [\n          \"Google\",\n          \"Email\"\n        ],\n        \"semantic_type\": \"\",\n        \"description\": \"\"\n      }\n    },\n    {\n      \"column\": \"state\",\n      \"properties\": {\n        \"dtype\": \"category\",\n        \"num_unique_values\": 8,\n        \"samples\": [\n          \"KY\",\n          \"OH\"\n        ],\n        \"semantic_type\": \"\",\n        \"description\": \"\"\n      }\n    }\n  ]\n}"
            }
          },
          "metadata": {},
          "execution_count": 223
        }
      ]
    },
    {
      "cell_type": "code",
      "source": [
        "users['create_d'] = users['createdDate'].apply(lambda x: extract2(x))\n",
        "users['login_d'] = users['lastLogin'].apply(lambda x: extract2(x))\n",
        "users['user_id'] = users['_id'].apply(lambda x: x.get('$oid') if isinstance(x, dict) else None)"
      ],
      "metadata": {
        "id": "nwJ7xdmGOCm1"
      },
      "execution_count": 224,
      "outputs": []
    },
    {
      "cell_type": "code",
      "source": [
        "users['create_ym'] = users['create_d'].apply(lambda x: datetime.fromtimestamp(x/1000).strftime('%Y-%m') if pd.notnull(x) else None)\n",
        "users['scan_ym'] = users['login_d'].apply(lambda x: datetime.fromtimestamp(x/1000).strftime('%Y-%m') if pd.notnull(x) else None)"
      ],
      "metadata": {
        "id": "phBJl0uDOZQA"
      },
      "execution_count": 225,
      "outputs": []
    },
    {
      "cell_type": "markdown",
      "source": [
        "### Missing values\n",
        " - Missing values in lastLogin, signUpSource, state and scan_ym columns."
      ],
      "metadata": {
        "id": "shq7lixUukKO"
      }
    },
    {
      "cell_type": "code",
      "source": [
        "users.shape"
      ],
      "metadata": {
        "colab": {
          "base_uri": "https://localhost:8080/"
        },
        "id": "omRwUPVautU2",
        "outputId": "e1cd1795-b753-45ee-cfed-2988c55654b9"
      },
      "execution_count": 226,
      "outputs": [
        {
          "output_type": "execute_result",
          "data": {
            "text/plain": [
              "(495, 12)"
            ]
          },
          "metadata": {},
          "execution_count": 226
        }
      ]
    },
    {
      "cell_type": "code",
      "source": [
        "users.isna().sum()"
      ],
      "metadata": {
        "colab": {
          "base_uri": "https://localhost:8080/"
        },
        "id": "A35gxH5uumw1",
        "outputId": "5c2cab31-57e9-4a06-857d-c4117376ac65"
      },
      "execution_count": 227,
      "outputs": [
        {
          "output_type": "execute_result",
          "data": {
            "text/plain": [
              "_id              0\n",
              "active           0\n",
              "createdDate      0\n",
              "lastLogin       62\n",
              "role             0\n",
              "signUpSource    48\n",
              "state           56\n",
              "create_d         0\n",
              "login_d         62\n",
              "user_id          0\n",
              "create_ym        0\n",
              "scan_ym         62\n",
              "dtype: int64"
            ]
          },
          "metadata": {},
          "execution_count": 227
        }
      ]
    },
    {
      "cell_type": "markdown",
      "source": [
        "### Consistent Values\n",
        " - Values are consistent across categorical or text columns"
      ],
      "metadata": {
        "id": "OaO5vVyHvTlT"
      }
    },
    {
      "cell_type": "code",
      "source": [
        "users['signUpSource'].value_counts()"
      ],
      "metadata": {
        "colab": {
          "base_uri": "https://localhost:8080/"
        },
        "id": "ZnKZdLbvvcDM",
        "outputId": "1fa60dc6-5c08-45b4-8b98-c952a8d609f6"
      },
      "execution_count": 228,
      "outputs": [
        {
          "output_type": "execute_result",
          "data": {
            "text/plain": [
              "Email     443\n",
              "Google      4\n",
              "Name: signUpSource, dtype: int64"
            ]
          },
          "metadata": {},
          "execution_count": 228
        }
      ]
    },
    {
      "cell_type": "code",
      "source": [
        "users['role'].value_counts()"
      ],
      "metadata": {
        "colab": {
          "base_uri": "https://localhost:8080/"
        },
        "id": "1akBs0c-vp2k",
        "outputId": "4e6618a8-18df-4134-9c6f-a81dfab61f7b"
      },
      "execution_count": 229,
      "outputs": [
        {
          "output_type": "execute_result",
          "data": {
            "text/plain": [
              "consumer       413\n",
              "fetch-staff     82\n",
              "Name: role, dtype: int64"
            ]
          },
          "metadata": {},
          "execution_count": 229
        }
      ]
    },
    {
      "cell_type": "code",
      "source": [
        "users['state'].value_counts()"
      ],
      "metadata": {
        "colab": {
          "base_uri": "https://localhost:8080/"
        },
        "id": "FwbkopAmvsJx",
        "outputId": "5bd5c2e5-a1d5-444b-81a7-6055da9c02e8"
      },
      "execution_count": 230,
      "outputs": [
        {
          "output_type": "execute_result",
          "data": {
            "text/plain": [
              "WI    396\n",
              "NH     20\n",
              "AL     12\n",
              "OH      5\n",
              "IL      3\n",
              "KY      1\n",
              "CO      1\n",
              "SC      1\n",
              "Name: state, dtype: int64"
            ]
          },
          "metadata": {},
          "execution_count": 230
        }
      ]
    },
    {
      "cell_type": "code",
      "source": [
        "users['active'].value_counts()"
      ],
      "metadata": {
        "colab": {
          "base_uri": "https://localhost:8080/"
        },
        "id": "ADNH3yBavxcH",
        "outputId": "9b44cffb-0632-40be-847a-99d329897dd1"
      },
      "execution_count": 231,
      "outputs": [
        {
          "output_type": "execute_result",
          "data": {
            "text/plain": [
              "True     494\n",
              "False      1\n",
              "Name: active, dtype: int64"
            ]
          },
          "metadata": {},
          "execution_count": 231
        }
      ]
    },
    {
      "cell_type": "markdown",
      "source": [
        "### Remove irrelevant columns\n",
        " -  Remove json formatted columns and columns that were used for retrieving and conversion."
      ],
      "metadata": {
        "id": "bg9szD6qwIvN"
      }
    },
    {
      "cell_type": "code",
      "source": [
        "colsToDrop = ['_id','createdDate','lastLogin']\n",
        "users.drop(colsToDrop, axis=1, inplace=True)"
      ],
      "metadata": {
        "id": "nYD82dDzwM1p"
      },
      "execution_count": 232,
      "outputs": []
    },
    {
      "cell_type": "markdown",
      "source": [
        "### Check duplicates\n",
        " - Within the users table, 283 users are duplicated in the 495 data points in the table.\n",
        " - Drop the 283 duplicated users."
      ],
      "metadata": {
        "id": "xupe6LZ4v8La"
      }
    },
    {
      "cell_type": "code",
      "source": [
        "users.duplicated().any()"
      ],
      "metadata": {
        "colab": {
          "base_uri": "https://localhost:8080/"
        },
        "id": "fNaOCt-_w3ns",
        "outputId": "4f898ba3-811a-4a84-c005-2204b8ff4da5"
      },
      "execution_count": 233,
      "outputs": [
        {
          "output_type": "execute_result",
          "data": {
            "text/plain": [
              "True"
            ]
          },
          "metadata": {},
          "execution_count": 233
        }
      ]
    },
    {
      "cell_type": "code",
      "source": [
        "users['user_id'].duplicated().sum()"
      ],
      "metadata": {
        "colab": {
          "base_uri": "https://localhost:8080/"
        },
        "id": "VU8WmeNDyQie",
        "outputId": "eacd9ab3-d3e6-4980-a66f-5b99ffa079df"
      },
      "execution_count": 234,
      "outputs": [
        {
          "output_type": "execute_result",
          "data": {
            "text/plain": [
              "283"
            ]
          },
          "metadata": {},
          "execution_count": 234
        }
      ]
    },
    {
      "cell_type": "code",
      "source": [
        "users = users.drop_duplicates()"
      ],
      "metadata": {
        "id": "MbhYmBxnyvsK"
      },
      "execution_count": 235,
      "outputs": []
    },
    {
      "cell_type": "markdown",
      "source": [
        "### Sqlite3 table conversion"
      ],
      "metadata": {
        "id": "foARL6ebt7cv"
      }
    },
    {
      "cell_type": "code",
      "source": [
        "for column in users.select_dtypes(include=['float64']).columns:\n",
        "    users[column] = users[column].fillna(0).astype(int)"
      ],
      "metadata": {
        "id": "Lc4jco2KuXR1"
      },
      "execution_count": 236,
      "outputs": []
    },
    {
      "cell_type": "code",
      "source": [
        "users.to_sql('users', conn, if_exists='replace', index=False)"
      ],
      "metadata": {
        "colab": {
          "base_uri": "https://localhost:8080/"
        },
        "id": "cCs1qiUFuXb_",
        "outputId": "dc19a01c-f302-4efe-c2e4-fae173602c20"
      },
      "execution_count": 237,
      "outputs": [
        {
          "output_type": "execute_result",
          "data": {
            "text/plain": [
              "212"
            ]
          },
          "metadata": {},
          "execution_count": 237
        }
      ]
    },
    {
      "cell_type": "code",
      "source": [
        "file_name = 'users.xlsx'\n",
        "users.to_excel(file_name, index=False)"
      ],
      "metadata": {
        "id": "ddm326GtRnVF"
      },
      "execution_count": 238,
      "outputs": []
    },
    {
      "cell_type": "markdown",
      "source": [
        "### **Business questions - TOP 5 brands**\n",
        "\n",
        "- What are the top 5 brands by receipts scanned for most recent month?\n",
        "  - The most recent month in the receipts table is March, 2021.\n",
        "  - However, due to missing barcode values in receipt table or non listed barcode values in the brand table, most of them have null values. Receipts scanned in Jan, 2021 partially contain brand name values.\n",
        "  \n",
        "- How does the ranking of the top 5 brands by receipts scanned for the recent month compare to the ranking for the previous month?\n",
        "  - Top 5 brands for Jan 2021 are as below (containing name values)\n",
        "    1. Tostitos\n",
        "    2. Swanson\n",
        "    3. Cracker Barrel Cheese\n",
        "    4. Prego\n",
        "    5. Diet Chris Cola\n"
      ],
      "metadata": {
        "id": "SjKzVmDrks09"
      }
    },
    {
      "cell_type": "code",
      "source": [
        "cur.execute(\"\"\"\n",
        "SELECT scan_ym,\n",
        "       COUNT(receipt_id)\n",
        "FROM receipts\n",
        "GROUP BY scan_ym\n",
        "ORDER BY scan_ym DESC\n",
        "\"\"\")\n",
        "\n",
        "rows = cur.fetchall()\n",
        "for row in rows:\n",
        "    print(row)"
      ],
      "metadata": {
        "colab": {
          "base_uri": "https://localhost:8080/"
        },
        "id": "RDfMoCSV_pdk",
        "outputId": "8090f94e-320d-433a-d115-c17c3751c836"
      },
      "execution_count": 189,
      "outputs": [
        {
          "output_type": "stream",
          "name": "stdout",
          "text": [
            "('2021-03', 43)\n",
            "('2021-02', 500)\n",
            "('2021-01', 3043)\n",
            "('2020-11', 24)\n",
            "('2020-10', 6)\n"
          ]
        }
      ]
    },
    {
      "cell_type": "code",
      "source": [
        "cur.execute(\"\"\"\n",
        "SELECT\n",
        "       A.scan_ym,\n",
        "       B.name,\n",
        "       COUNT(A.receipt_id) AS scanned,\n",
        "       ROW_NUMBER() OVER (PARTITION BY scan_ym ORDER BY COUNT(DISTINCT A.receipt_id) DESC) AS RANK\n",
        "FROM RECEIPTS A LEFT OUTER JOIN BRANDS B\n",
        "ON A.barcode=B.barcode\n",
        "GROUP BY A.scan_ym, B.name\n",
        "ORDER BY scan_ym DESC\n",
        "\"\"\")\n",
        "\n",
        "rows = cur.fetchall()\n",
        "for row in rows:\n",
        "    print(row)"
      ],
      "metadata": {
        "colab": {
          "base_uri": "https://localhost:8080/"
        },
        "id": "V0XI9VqDAMam",
        "outputId": "cbe5b41e-3df6-49ae-e6c6-94f70bf2a02b"
      },
      "execution_count": 196,
      "outputs": [
        {
          "output_type": "stream",
          "name": "stdout",
          "text": [
            "('2021-03', None, 43, 1)\n",
            "('2021-02', None, 500, 1)\n",
            "('2021-01', None, 2961, 1)\n",
            "('2021-01', 'Tostitos', 23, 2)\n",
            "('2021-01', 'Swanson', 11, 3)\n",
            "('2021-01', 'Cracker Barrel Cheese', 10, 4)\n",
            "('2021-01', 'Prego', 7, 5)\n",
            "('2021-01', 'Diet Chris Cola', 7, 6)\n",
            "('2021-01', 'Quaker', 3, 7)\n",
            "('2021-01', 'Kraft', 3, 8)\n",
            "('2021-01', 'Kettle Brand', 3, 9)\n",
            "('2021-01', 'Jell-O', 3, 10)\n",
            "('2021-01', 'V8', 4, 11)\n",
            "('2021-01', 'Rice A Roni', 3, 12)\n",
            "('2021-01', 'Pepperidge Farm', 5, 13)\n",
            "('2021-01', 'Cheetos', 3, 14)\n",
            "('2021-01', 'Sargento® Cheese', 1, 15)\n",
            "('2021-01', 'Pacific Foods', 1, 16)\n",
            "('2021-01', 'Mountain Dew', 1, 17)\n",
            "('2021-01', 'Grey Poupon', 1, 18)\n",
            "('2020-11', None, 24, 1)\n",
            "('2020-10', None, 6, 1)\n"
          ]
        }
      ]
    },
    {
      "cell_type": "markdown",
      "source": [
        "###**Business Questions - Spending and items purchased by rewardsReceiptStatus**\n",
        "- When considering average spend from receipts with 'rewardsReceiptStatus’ of ‘Accepted’ or ‘Rejected’, which is greater?\n",
        "  - First of all, there is no value named 'Accepted'.\n",
        "  - If comparing with 'Finished' status, average spending is 913 dollars which is approx. 34 times higher than 'Rejected' average spending of 27 dollars. (Assuming spending in 1 dollar unit.)\n",
        "- When considering total number of items purchased from receipts with 'rewardsReceiptStatus’ of ‘Accepted’ or ‘Rejected’, which is greater?\n",
        "  - If comparing with 'Finished' status, total number of items purchased is 491,828 which is approx. 1,927 times higher than 'Rejected' total number of items purchased of 255.\n"
      ],
      "metadata": {
        "id": "tZw7kVs71vhE"
      }
    },
    {
      "cell_type": "code",
      "source": [
        "cur.execute(\"\"\"\n",
        "\n",
        "    SELECT\n",
        "        rewardsReceiptStatus,\n",
        "        ROUND(AVG(CASE WHEN totalSpent IS NOT NULL THEN totalSpent END), 0) AS avg_totalSpent,\n",
        "        SUM(CASE WHEN purchasedItemCount IS NOT NULL THEN purchasedItemCount ELSE 0 END) AS total_purchasedItemCount\n",
        "    FROM\n",
        "        receipts\n",
        "    GROUP BY\n",
        "        rewardsReceiptStatus\n",
        "\"\"\")\n",
        "\n",
        "rows = cur.fetchall()\n",
        "for row in rows:\n",
        "    print(row)"
      ],
      "metadata": {
        "colab": {
          "base_uri": "https://localhost:8080/"
        },
        "id": "hp1mGSql8LGc",
        "outputId": "302ef3db-0140-4960-833c-3c0f5dc6aa80"
      },
      "execution_count": 208,
      "outputs": [
        {
          "output_type": "stream",
          "name": "stdout",
          "text": [
            "('FINISHED', 913.0, 491828)\n",
            "('FLAGGED', 2064.0, 70063)\n",
            "('PENDING', 27.0, 0)\n",
            "('REJECTED', 27.0, 255)\n",
            "('SUBMITTED', 0.0, 0)\n"
          ]
        }
      ]
    },
    {
      "cell_type": "code",
      "source": [
        "cur.execute(\"\"\"\n",
        "\n",
        "WITH StatusTotals AS (\n",
        "    SELECT\n",
        "        rewardsReceiptStatus,\n",
        "        ROUND(AVG(CASE WHEN totalSpent IS NOT NULL THEN totalSpent END), 0) AS avg_totalSpent,\n",
        "        SUM(CASE WHEN purchasedItemCount IS NOT NULL THEN purchasedItemCount ELSE 0 END) AS total_purchasedItemCount\n",
        "    FROM\n",
        "        receipts\n",
        "    GROUP BY\n",
        "        rewardsReceiptStatus\n",
        ")\n",
        "SELECT\n",
        "    st1.rewardsReceiptStatus AS status1,\n",
        "    st2.rewardsReceiptStatus AS status2,\n",
        "    ROUND((st1.avg_totalSpent - st2.avg_totalSpent) / st2.avg_totalSpent * 100,0) AS percent_change_avg_totalSpent,\n",
        "    ROUND((st1.total_purchasedItemCount - st2.total_purchasedItemCount) / st2.total_purchasedItemCount * 100,0) AS percent_change_total_purchasedItemCount\n",
        "FROM\n",
        "    StatusTotals st1\n",
        "JOIN\n",
        "    StatusTotals st2 ON st1.rewardsReceiptStatus < st2.rewardsReceiptStatus\n",
        "\n",
        "\"\"\")\n",
        "\n",
        "rows = cur.fetchall()\n",
        "for row in rows:\n",
        "    print(row)\n"
      ],
      "metadata": {
        "colab": {
          "base_uri": "https://localhost:8080/"
        },
        "id": "yPSyEcN44qr2",
        "outputId": "1a9bc8fc-22fe-461f-cf61-55ee406994a3"
      },
      "execution_count": 216,
      "outputs": [
        {
          "output_type": "stream",
          "name": "stdout",
          "text": [
            "('FINISHED', 'FLAGGED', -56.0, 600.0)\n",
            "('FINISHED', 'PENDING', 3281.0, None)\n",
            "('FINISHED', 'REJECTED', 3281.0, 192700.0)\n",
            "('FINISHED', 'SUBMITTED', None, None)\n",
            "('FLAGGED', 'PENDING', 7544.0, None)\n",
            "('FLAGGED', 'REJECTED', 7544.0, 27300.0)\n",
            "('FLAGGED', 'SUBMITTED', None, None)\n",
            "('PENDING', 'REJECTED', 0.0, -100.0)\n",
            "('PENDING', 'SUBMITTED', None, None)\n",
            "('REJECTED', 'SUBMITTED', None, None)\n"
          ]
        }
      ]
    },
    {
      "cell_type": "markdown",
      "source": [
        "### Business Questions -\n",
        "- Which brand has the most spend among users who were created within the past 6 months?\n",
        "    - Tostitos has the most spending of 15,785 dollars among users who were created within the past 6 months.\n",
        "- Which brand has the most transactions among users who were created within the past 6 months?\n",
        "    - Tostitos has the most transactions of 23 among users who were created within the past 6 months."
      ],
      "metadata": {
        "id": "tW5f-NfI3_rj"
      }
    },
    {
      "cell_type": "code",
      "source": [
        "cur.execute(\"\"\"\n",
        "SELECT A.name,\n",
        "       ROUND(SUM(B.totalSpent), 0) AS \"total_spend\",\n",
        "       COUNT(B.receipt_id) AS \"transaction\"\n",
        "FROM brands A\n",
        "INNER JOIN receipts B ON A.barcode = B.barcode\n",
        "INNER JOIN users C ON B.userId = C.user_id\n",
        "WHERE A.name IS NOT NULL\n",
        "AND C.create_ym >= '2020-09'\n",
        "GROUP BY A.name\n",
        "HAVING ROUND(AVG(B.totalSpent), 0) > 0\n",
        "ORDER BY \"total_spend\" DESC;\n",
        "\"\"\")\n",
        "\n",
        "# Fetch and print the results of the SELECT query\n",
        "rows = cur.fetchall()\n",
        "for row in rows:\n",
        "    print(row)"
      ],
      "metadata": {
        "colab": {
          "base_uri": "https://localhost:8080/"
        },
        "id": "MdFwTw-xL1hY",
        "outputId": "04bec98d-e25a-40da-c2a3-59388f6fa912"
      },
      "execution_count": 244,
      "outputs": [
        {
          "output_type": "stream",
          "name": "stdout",
          "text": [
            "('Tostitos', 15785.0, 23)\n",
            "('Pepperidge Farm', 14163.0, 3)\n",
            "('V8', 9442.0, 2)\n",
            "('Prego', 9442.0, 2)\n",
            "('Diet Chris Cola', 9442.0, 2)\n",
            "('Swanson', 7180.0, 11)\n",
            "('Cracker Barrel Cheese', 4884.0, 2)\n",
            "('Jell-O', 4753.0, 2)\n",
            "('Cheetos', 4721.0, 1)\n",
            "('Kettle Brand', 2399.0, 3)\n",
            "('Grey Poupon', 743.0, 1)\n",
            "('Quaker', 32.0, 1)\n"
          ]
        }
      ]
    }
  ]
}